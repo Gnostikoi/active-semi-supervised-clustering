{
 "cells": [
  {
   "cell_type": "markdown",
   "metadata": {},
   "source": [
    "# Active Semi-Supervised Clustering"
   ]
  },
  {
   "cell_type": "code",
   "execution_count": 11,
   "metadata": {},
   "outputs": [
    {
     "name": "stderr",
     "output_type": "stream",
     "text": [
      "/anaconda/lib/python3.6/site-packages/sklearn/ensemble/weight_boosting.py:29: DeprecationWarning: numpy.core.umath_tests is an internal NumPy module and should not be imported. It will be removed in a future NumPy release.\n",
      "  from numpy.core.umath_tests import inner1d\n"
     ]
    }
   ],
   "source": [
    "from sklearn import datasets, metrics\n",
    "from active_semi_clustering.semi_supervised.pairwise_constraints import PCKMeans\n",
    "from active_semi_clustering.active.pairwise_constraints import ExampleOracle, ExploreConsolidate, MinMax"
   ]
  },
  {
   "cell_type": "code",
   "execution_count": 12,
   "metadata": {
    "collapsed": true
   },
   "outputs": [],
   "source": [
    "X, y = datasets.load_iris(return_X_y=True)"
   ]
  },
  {
   "cell_type": "markdown",
   "metadata": {},
   "source": [
    "First, obtain some pairwise constraints from the oracle."
   ]
  },
  {
   "cell_type": "code",
   "execution_count": 15,
   "metadata": {
    "collapsed": true
   },
   "outputs": [],
   "source": [
    "# TODO implement your own oracle that will, for example, query a domain expert via GUI or CLI\n",
    "oracle = ExampleOracle(y, max_queries_cnt=10)\n",
    "\n",
    "active_learner = MinMax(n_clusters=3)\n",
    "active_learner.fit(X, oracle=oracle)\n",
    "pairwise_constraints = active_learner.pairwise_constraints_"
   ]
  },
  {
   "cell_type": "markdown",
   "metadata": {},
   "source": [
    "Then, use the constraints to do the clustering."
   ]
  },
  {
   "cell_type": "code",
   "execution_count": 16,
   "metadata": {},
   "outputs": [
    {
     "data": {
      "text/plain": [
       "<active_semi_clustering.semi_supervised.pairwise_constraints.pckmeans.PCKMeans at 0x1a1a922630>"
      ]
     },
     "execution_count": 16,
     "metadata": {},
     "output_type": "execute_result"
    }
   ],
   "source": [
    "clusterer = PCKMeans(n_clusters=3)\n",
    "clusterer.fit(X, ml=pairwise_constraints[0], cl=pairwise_constraints[1])"
   ]
  },
  {
   "cell_type": "markdown",
   "metadata": {},
   "source": [
    "Evaluate the clustering using Adjusted Rand Score."
   ]
  },
  {
   "cell_type": "code",
   "execution_count": 17,
   "metadata": {},
   "outputs": [
    {
     "data": {
      "text/plain": [
       "0.7436826319432357"
      ]
     },
     "execution_count": 17,
     "metadata": {},
     "output_type": "execute_result"
    }
   ],
   "source": [
    "metrics.adjusted_rand_score(y, clusterer.labels_)"
   ]
  },
  {
   "cell_type": "code",
   "execution_count": 18,
   "metadata": {},
   "outputs": [
    {
     "data": {
      "text/plain": [
       "([(46, 41),\n",
       "  (41, 46),\n",
       "  (118, 106),\n",
       "  (118, 100),\n",
       "  (106, 118),\n",
       "  (106, 100),\n",
       "  (100, 118),\n",
       "  (100, 106),\n",
       "  (50, 98),\n",
       "  (98, 50)],\n",
       " [(46, 118),\n",
       "  (46, 106),\n",
       "  (46, 100),\n",
       "  (41, 118),\n",
       "  (41, 106),\n",
       "  (41, 100),\n",
       "  (46, 50),\n",
       "  (46, 98),\n",
       "  (41, 50),\n",
       "  (41, 98),\n",
       "  (118, 46),\n",
       "  (118, 41),\n",
       "  (106, 46),\n",
       "  (106, 41),\n",
       "  (100, 46),\n",
       "  (100, 41),\n",
       "  (118, 50),\n",
       "  (118, 98),\n",
       "  (106, 50),\n",
       "  (106, 98),\n",
       "  (100, 50),\n",
       "  (100, 98),\n",
       "  (50, 46),\n",
       "  (50, 41),\n",
       "  (98, 46),\n",
       "  (98, 41),\n",
       "  (50, 118),\n",
       "  (50, 106),\n",
       "  (50, 100),\n",
       "  (98, 118),\n",
       "  (98, 106),\n",
       "  (98, 100)])"
      ]
     },
     "execution_count": 18,
     "metadata": {},
     "output_type": "execute_result"
    }
   ],
   "source": [
    "pairwise_constraints"
   ]
  },
  {
   "cell_type": "code",
   "execution_count": null,
   "metadata": {
    "collapsed": true
   },
   "outputs": [],
   "source": []
  }
 ],
 "metadata": {
  "kernelspec": {
   "display_name": "Python 3",
   "language": "python",
   "name": "python3"
  },
  "language_info": {
   "codemirror_mode": {
    "name": "ipython",
    "version": 3
   },
   "file_extension": ".py",
   "mimetype": "text/x-python",
   "name": "python",
   "nbconvert_exporter": "python",
   "pygments_lexer": "ipython3",
   "version": "3.6.8"
  }
 },
 "nbformat": 4,
 "nbformat_minor": 2
}
